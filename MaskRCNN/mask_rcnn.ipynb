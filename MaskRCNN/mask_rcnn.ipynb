{
 "cells": [
  {
   "cell_type": "code",
   "execution_count": 1,
   "metadata": {},
   "outputs": [],
   "source": [
    "import torch\n",
    "import torch.nn as nn\n",
    "import torchvision.models as models\n",
    "import torchvision.datasets as datasets\n",
    "from torchvision import transforms\n",
    "from torch.utils.data import DataLoader\n",
    "from torch.cuda import amp\n",
    "\n",
    "from src.pretrain_detnet import detnet59_fpn\n",
    "from src.RCNN import MaskRCNN, RPN\n",
    "from src.pascal_voc import VocDetectionData, VOC_CLASSES\n",
    "from src.criterion import RPNLoss\n",
    "import os\n",
    "\n",
    "import cv2\n",
    "\n",
    "from matplotlib import pyplot as plt\n",
    "\n",
    "%load_ext autoreload\n",
    "%autoreload 2"
   ]
  },
  {
   "cell_type": "code",
   "execution_count": 2,
   "metadata": {},
   "outputs": [],
   "source": [
    "cwd = os.getcwd()\n",
    "pretrained_path = os.path.join(cwd, \"saved_model_working/pretrained_backbone.pth.tar\")\n",
    "device = torch.device('cuda' if torch.cuda.is_available() else 'cpu')"
   ]
  },
  {
   "cell_type": "code",
   "execution_count": 3,
   "metadata": {},
   "outputs": [],
   "source": [
    "rpn_net = RPN(pretrained_path).to(device)\n",
    "criterion = RPNLoss().to(device)\n",
    "optimizer = torch.optim.SGD(rpn_net.parameters(), lr=0.001)\n",
    "schedular = torch.optim.lr_scheduler.StepLR(optimizer, step_size=15, gamma=0.1)"
   ]
  },
  {
   "cell_type": "code",
   "execution_count": 4,
   "metadata": {},
   "outputs": [
    {
     "name": "stdout",
     "output_type": "stream",
     "text": [
      "Initializing dataset\n"
     ]
    }
   ],
   "source": [
    "data = VocDetectionData(root=cwd, size=800)"
   ]
  },
  {
   "cell_type": "code",
   "execution_count": 5,
   "metadata": {},
   "outputs": [],
   "source": [
    "train_loader = DataLoader(data, batch_size=1, shuffle=True, pin_memory=True)"
   ]
  },
  {
   "cell_type": "code",
   "execution_count": 8,
   "metadata": {},
   "outputs": [
    {
     "name": "stdout",
     "output_type": "stream",
     "text": [
      "epoch 0\n",
      "itr: 0 loss: tensor(0.7017, device='cuda:0', grad_fn=<AddBackward0>)\n"
     ]
    },
    {
     "ename": "KeyboardInterrupt",
     "evalue": "",
     "output_type": "error",
     "traceback": [
      "\u001b[0;31m---------------------------------------------------------------------------\u001b[0m",
      "\u001b[0;31mKeyboardInterrupt\u001b[0m                         Traceback (most recent call last)",
      "\u001b[1;32m/home/risak/cs445/final/mask_rcnn.ipynb Cell 6'\u001b[0m in \u001b[0;36m<cell line: 4>\u001b[0;34m()\u001b[0m\n\u001b[1;32m     <a href='vscode-notebook-cell://wsl%2Bubuntu/home/risak/cs445/final/mask_rcnn.ipynb#ch0000016vscode-remote?line=14'>15</a>\u001b[0m losses\u001b[39m.\u001b[39mappend(loss\u001b[39m.\u001b[39mdetach()\u001b[39m.\u001b[39mitem())\n\u001b[1;32m     <a href='vscode-notebook-cell://wsl%2Bubuntu/home/risak/cs445/final/mask_rcnn.ipynb#ch0000016vscode-remote?line=15'>16</a>\u001b[0m optimizer\u001b[39m.\u001b[39mzero_grad()\n\u001b[0;32m---> <a href='vscode-notebook-cell://wsl%2Bubuntu/home/risak/cs445/final/mask_rcnn.ipynb#ch0000016vscode-remote?line=16'>17</a>\u001b[0m scaler\u001b[39m.\u001b[39;49mscale(loss)\u001b[39m.\u001b[39;49mbackward()\n\u001b[1;32m     <a href='vscode-notebook-cell://wsl%2Bubuntu/home/risak/cs445/final/mask_rcnn.ipynb#ch0000016vscode-remote?line=17'>18</a>\u001b[0m scaler\u001b[39m.\u001b[39mstep(optimizer)\n\u001b[1;32m     <a href='vscode-notebook-cell://wsl%2Bubuntu/home/risak/cs445/final/mask_rcnn.ipynb#ch0000016vscode-remote?line=18'>19</a>\u001b[0m scaler\u001b[39m.\u001b[39mupdate()\n",
      "File \u001b[0;32m~/.local/share/virtualenvs/cs445-lceSi90J/lib/python3.9/site-packages/torch/_tensor.py:363\u001b[0m, in \u001b[0;36mTensor.backward\u001b[0;34m(self, gradient, retain_graph, create_graph, inputs)\u001b[0m\n\u001b[1;32m    <a href='file:///home/risak/.local/share/virtualenvs/cs445-lceSi90J/lib/python3.9/site-packages/torch/_tensor.py?line=353'>354</a>\u001b[0m \u001b[39mif\u001b[39;00m has_torch_function_unary(\u001b[39mself\u001b[39m):\n\u001b[1;32m    <a href='file:///home/risak/.local/share/virtualenvs/cs445-lceSi90J/lib/python3.9/site-packages/torch/_tensor.py?line=354'>355</a>\u001b[0m     \u001b[39mreturn\u001b[39;00m handle_torch_function(\n\u001b[1;32m    <a href='file:///home/risak/.local/share/virtualenvs/cs445-lceSi90J/lib/python3.9/site-packages/torch/_tensor.py?line=355'>356</a>\u001b[0m         Tensor\u001b[39m.\u001b[39mbackward,\n\u001b[1;32m    <a href='file:///home/risak/.local/share/virtualenvs/cs445-lceSi90J/lib/python3.9/site-packages/torch/_tensor.py?line=356'>357</a>\u001b[0m         (\u001b[39mself\u001b[39m,),\n\u001b[0;32m   (...)\u001b[0m\n\u001b[1;32m    <a href='file:///home/risak/.local/share/virtualenvs/cs445-lceSi90J/lib/python3.9/site-packages/torch/_tensor.py?line=360'>361</a>\u001b[0m         create_graph\u001b[39m=\u001b[39mcreate_graph,\n\u001b[1;32m    <a href='file:///home/risak/.local/share/virtualenvs/cs445-lceSi90J/lib/python3.9/site-packages/torch/_tensor.py?line=361'>362</a>\u001b[0m         inputs\u001b[39m=\u001b[39minputs)\n\u001b[0;32m--> <a href='file:///home/risak/.local/share/virtualenvs/cs445-lceSi90J/lib/python3.9/site-packages/torch/_tensor.py?line=362'>363</a>\u001b[0m torch\u001b[39m.\u001b[39;49mautograd\u001b[39m.\u001b[39;49mbackward(\u001b[39mself\u001b[39;49m, gradient, retain_graph, create_graph, inputs\u001b[39m=\u001b[39;49minputs)\n",
      "File \u001b[0;32m~/.local/share/virtualenvs/cs445-lceSi90J/lib/python3.9/site-packages/torch/autograd/__init__.py:173\u001b[0m, in \u001b[0;36mbackward\u001b[0;34m(tensors, grad_tensors, retain_graph, create_graph, grad_variables, inputs)\u001b[0m\n\u001b[1;32m    <a href='file:///home/risak/.local/share/virtualenvs/cs445-lceSi90J/lib/python3.9/site-packages/torch/autograd/__init__.py?line=167'>168</a>\u001b[0m     retain_graph \u001b[39m=\u001b[39m create_graph\n\u001b[1;32m    <a href='file:///home/risak/.local/share/virtualenvs/cs445-lceSi90J/lib/python3.9/site-packages/torch/autograd/__init__.py?line=169'>170</a>\u001b[0m \u001b[39m# The reason we repeat same the comment below is that\u001b[39;00m\n\u001b[1;32m    <a href='file:///home/risak/.local/share/virtualenvs/cs445-lceSi90J/lib/python3.9/site-packages/torch/autograd/__init__.py?line=170'>171</a>\u001b[0m \u001b[39m# some Python versions print out the first line of a multi-line function\u001b[39;00m\n\u001b[1;32m    <a href='file:///home/risak/.local/share/virtualenvs/cs445-lceSi90J/lib/python3.9/site-packages/torch/autograd/__init__.py?line=171'>172</a>\u001b[0m \u001b[39m# calls in the traceback and some print out the last line\u001b[39;00m\n\u001b[0;32m--> <a href='file:///home/risak/.local/share/virtualenvs/cs445-lceSi90J/lib/python3.9/site-packages/torch/autograd/__init__.py?line=172'>173</a>\u001b[0m Variable\u001b[39m.\u001b[39;49m_execution_engine\u001b[39m.\u001b[39;49mrun_backward(  \u001b[39m# Calls into the C++ engine to run the backward pass\u001b[39;49;00m\n\u001b[1;32m    <a href='file:///home/risak/.local/share/virtualenvs/cs445-lceSi90J/lib/python3.9/site-packages/torch/autograd/__init__.py?line=173'>174</a>\u001b[0m     tensors, grad_tensors_, retain_graph, create_graph, inputs,\n\u001b[1;32m    <a href='file:///home/risak/.local/share/virtualenvs/cs445-lceSi90J/lib/python3.9/site-packages/torch/autograd/__init__.py?line=174'>175</a>\u001b[0m     allow_unreachable\u001b[39m=\u001b[39;49m\u001b[39mTrue\u001b[39;49;00m, accumulate_grad\u001b[39m=\u001b[39;49m\u001b[39mTrue\u001b[39;49;00m)\n",
      "\u001b[0;31mKeyboardInterrupt\u001b[0m: "
     ]
    }
   ],
   "source": [
    "scaler = amp.GradScaler()\n",
    "losses = []\n",
    "rpn_net.train()\n",
    "for epoch in range(50):\n",
    "    print(\"epoch \" + str(epoch))\n",
    "    for i, data in enumerate(train_loader):\n",
    "        image, labels, bboxes, fname = data\n",
    "        image = image.to(device)\n",
    "        bboxes = bboxes.to(device)\n",
    "\n",
    "        with amp.autocast():\n",
    "            rpn_reg_scores, anchors, rpn_bboxes_xywh, rpn_bboxes_xyxy, rpn_obj_scores = rpn_net(image)\n",
    "            loss = criterion(rpn_reg_scores, rpn_obj_scores, rpn_bboxes_xyxy, bboxes.detach()[0], anchors.detach())\n",
    "\n",
    "        losses.append(loss.detach().item())\n",
    "        optimizer.zero_grad()\n",
    "        scaler.scale(loss).backward()\n",
    "        scaler.step(optimizer)\n",
    "        scaler.update()\n",
    "        schedular.step()\n",
    "\n",
    "        if i % 1000 == 0:\n",
    "            print(\"itr: \" + str(i) + \" loss: \" + str(loss))\n",
    "\n",
    "        del loss\n",
    "        del rpn_reg_scores\n",
    "        del anchors\n",
    "        del rpn_bboxes_xywh\n",
    "        del rpn_bboxes_xyxy\n",
    "        del rpn_obj_scores\n",
    "        del image\n",
    "        del labels\n",
    "        del bboxes\n",
    "        del fname\n",
    "\n",
    "    "
   ]
  },
  {
   "cell_type": "code",
   "execution_count": 9,
   "metadata": {},
   "outputs": [
    {
     "data": {
      "text/plain": [
       "[0.7017409205436707,\n",
       " 0.7115809321403503,\n",
       " 0.6995367407798767,\n",
       " 0.7034119367599487,\n",
       " 0.7005923390388489,\n",
       " 0.7067487835884094,\n",
       " 0.6956576108932495,\n",
       " 0.6968466639518738,\n",
       " 0.6942546963691711,\n",
       " 0.6952702403068542,\n",
       " 0.6929062604904175,\n",
       " 0.6918022632598877,\n",
       " 0.7049766182899475,\n",
       " 0.6861869096755981,\n",
       " 0.7184505462646484,\n",
       " 0.6982505321502686,\n",
       " 0.7006296515464783,\n",
       " 0.6996737718582153,\n",
       " 0.6976303458213806,\n",
       " 0.7139388918876648,\n",
       " 0.6975721716880798,\n",
       " 0.6930006742477417,\n",
       " 0.6977785229682922,\n",
       " 0.6904575228691101,\n",
       " 0.6994780898094177,\n",
       " 0.6983123421669006,\n",
       " 0.7040213346481323,\n",
       " 0.6985630393028259,\n",
       " 0.6977686882019043,\n",
       " 0.702555775642395,\n",
       " 0.6891095042228699,\n",
       " 0.6998506784439087,\n",
       " 0.702961802482605,\n",
       " 0.6995626091957092,\n",
       " 0.6954851746559143,\n",
       " 0.6984736919403076,\n",
       " 0.6990086436271667,\n",
       " 0.6985742449760437,\n",
       " 0.7100406885147095,\n",
       " 0.7083916068077087,\n",
       " 0.6976839303970337,\n",
       " 0.6938945055007935,\n",
       " 0.7018881440162659]"
      ]
     },
     "execution_count": 9,
     "metadata": {},
     "output_type": "execute_result"
    }
   ],
   "source": [
    "losses"
   ]
  },
  {
   "cell_type": "code",
   "execution_count": null,
   "metadata": {},
   "outputs": [],
   "source": [
    "def draw_bboxes(image, label, bbox):\n",
    "    image = image.permute(1, 2, 0).numpy()\n",
    "    image = cv2.cvtColor(image, cv2.COLOR_RGB2BGR)\n",
    "    image = cv2.cvtColor(image, cv2.COLOR_BGR2RGB)\n",
    "    print(bbox)\n",
    "    for i in range(bbox.shape[0]):\n",
    "        box = bbox[i]\n",
    "        p1 = (int(box[0] * image.shape[1]), int(box[1] * image.shape[0]))\n",
    "        p2 = (int(box[2] * image.shape[1]), int(box[3] * image.shape[0]))\n",
    "        cv2.rectangle(image, p1, p2, color=[128, 0, 0], thickness=2)\n",
    "        text_size, baseline = cv2.getTextSize(VOC_CLASSES[label[i]], cv2.FONT_HERSHEY_SIMPLEX, 0.4, 1)\n",
    "        p1 = (p1[0], p1[1] - text_size[1])\n",
    "        cv2.rectangle(image, (p1[0] - 2 // 2, p1[1] - 2 - baseline), (p1[0] + text_size[0], p1[1] + text_size[1]),\n",
    "                    [128, 0, 0], -1)\n",
    "\n",
    "        cv2.putText(image, VOC_CLASSES[label[i]], (p1[0], p1[1] + baseline), cv2.FONT_HERSHEY_SIMPLEX, 0.4, (255, 255, 255), 1, 8)\n",
    "\n",
    "    plt.figure(figsize = (15,15))\n",
    "    plt.imshow(image)"
   ]
  },
  {
   "cell_type": "code",
   "execution_count": null,
   "metadata": {},
   "outputs": [],
   "source": [
    "detection_data = datasets.VOCDetection(root=cwd, year=\"2012\", image_set=\"trainval\", transform=transforms.ToTensor())"
   ]
  },
  {
   "cell_type": "code",
   "execution_count": null,
   "metadata": {},
   "outputs": [
    {
     "data": {
      "text/plain": [
       "[{'name': 'tvmonitor',\n",
       "  'pose': 'Frontal',\n",
       "  'truncated': '0',\n",
       "  'occluded': '0',\n",
       "  'bndbox': {'xmin': '34', 'ymin': '11', 'xmax': '448', 'ymax': '293'},\n",
       "  'difficult': '0'}]"
      ]
     },
     "execution_count": 293,
     "metadata": {},
     "output_type": "execute_result"
    }
   ],
   "source": [
    "detection_data[0][1][\"annotation\"][\"object\"]"
   ]
  },
  {
   "cell_type": "code",
   "execution_count": null,
   "metadata": {},
   "outputs": [
    {
     "name": "stdout",
     "output_type": "stream",
     "text": [
      "tensor([[0.6592, 0.3873],\n",
      "        [0.9675, 0.4224],\n",
      "        [0.7821, 0.7219],\n",
      "        [0.1726, 0.4306]])\n",
      "tensor([[False, False],\n",
      "        [ True, False],\n",
      "        [False, False],\n",
      "        [False, False]])\n",
      "tensor([[False, False],\n",
      "        [ True, False],\n",
      "        [False,  True],\n",
      "        [False, False]])\n",
      "torch.Size([2, 2])\n"
     ]
    },
    {
     "data": {
      "text/plain": [
       "device(type='cpu')"
      ]
     },
     "execution_count": 225,
     "metadata": {},
     "output_type": "execute_result"
    }
   ],
   "source": [
    "a = torch.rand(4, 2)\n",
    "print(a)\n",
    "b = a > 0.8\n",
    "print(b)\n",
    "for i in range(2):\n",
    "    if b[:, i].sum() == 0:\n",
    "        b[a[:, i].argmax(), i] = True\n",
    "print(b)\n",
    "print(b.nonzero().shape)"
   ]
  },
  {
   "cell_type": "code",
   "execution_count": null,
   "metadata": {},
   "outputs": [
    {
     "name": "stdout",
     "output_type": "stream",
     "text": [
      "tensor([[[0.8293, 0.7149, 0.7835, 0.0978],\n",
      "         [0.2139, 0.0152, 0.1582, 0.1765],\n",
      "         [0.3522, 0.1909, 0.5115, 0.7426]],\n",
      "\n",
      "        [[0.8155, 0.4853, 0.4972, 0.6358],\n",
      "         [0.1679, 0.9749, 0.3284, 0.6902],\n",
      "         [0.8101, 0.2171, 0.9477, 0.4416]]])\n",
      "tensor([[0.8293, 0.7149],\n",
      "        [0.7835, 0.0978],\n",
      "        [0.2139, 0.0152],\n",
      "        [0.1582, 0.1765],\n",
      "        [0.3522, 0.1909],\n",
      "        [0.5115, 0.7426],\n",
      "        [0.8155, 0.4853],\n",
      "        [0.4972, 0.6358],\n",
      "        [0.1679, 0.9749],\n",
      "        [0.3284, 0.6902],\n",
      "        [0.8101, 0.2171],\n",
      "        [0.9477, 0.4416]])\n",
      "tensor([[0.4901, 0.2967],\n",
      "        [0.8392, 0.2936],\n",
      "        [0.1382, 0.7315],\n",
      "        [0.8575, 0.0733],\n",
      "        [0.8191, 0.6934],\n",
      "        [0.8408, 0.7207],\n",
      "        [0.2457, 0.7487],\n",
      "        [0.3968, 0.3466],\n",
      "        [0.6786, 0.2178],\n",
      "        [0.7180, 0.5348],\n",
      "        [0.8606, 0.9914],\n",
      "        [0.7695, 0.0661]])\n",
      "tensor([[[0.4901, 0.2967, 0.8392, 0.2936],\n",
      "         [0.1382, 0.7315, 0.8575, 0.0733],\n",
      "         [0.8191, 0.6934, 0.8408, 0.7207]],\n",
      "\n",
      "        [[0.2457, 0.7487, 0.3968, 0.3466],\n",
      "         [0.6786, 0.2178, 0.7180, 0.5348],\n",
      "         [0.8606, 0.9914, 0.7695, 0.0661]]])\n"
     ]
    }
   ],
   "source": [
    "a = torch.rand(2, 3, 4)\n",
    "print(a)\n",
    "print(a.view(-1, 2))\n",
    "b = torch.rand(12, 2)\n",
    "print()\n",
    "print(b.view(2, 3, 4))\n"
   ]
  }
 ],
 "metadata": {
  "kernelspec": {
   "display_name": "cs445",
   "language": "python",
   "name": "cs445"
  },
  "language_info": {
   "codemirror_mode": {
    "name": "ipython",
    "version": 3
   },
   "file_extension": ".py",
   "mimetype": "text/x-python",
   "name": "python",
   "nbconvert_exporter": "python",
   "pygments_lexer": "ipython3",
   "version": "3.9.8"
  },
  "orig_nbformat": 4
 },
 "nbformat": 4,
 "nbformat_minor": 2
}
